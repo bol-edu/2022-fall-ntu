{
 "cells": [
  {
   "cell_type": "code",
   "execution_count": 1,
   "id": "19543ea6",
   "metadata": {},
   "outputs": [
    {
     "data": {
      "application/javascript": [
       "\n",
       "try {\n",
       "require(['notebook/js/codecell'], function(codecell) {\n",
       "  codecell.CodeCell.options_default.highlight_modes[\n",
       "      'magic_text/x-csrc'] = {'reg':[/^%%microblaze/]};\n",
       "  Jupyter.notebook.events.one('kernel_ready.Kernel', function(){\n",
       "      Jupyter.notebook.get_cells().map(function(cell){\n",
       "          if (cell.cell_type == 'code'){ cell.auto_highlight(); } }) ;\n",
       "  });\n",
       "});\n",
       "} catch (e) {};\n"
      ]
     },
     "metadata": {},
     "output_type": "display_data"
    },
    {
     "data": {
      "application/javascript": [
       "\n",
       "try {\n",
       "require(['notebook/js/codecell'], function(codecell) {\n",
       "  codecell.CodeCell.options_default.highlight_modes[\n",
       "      'magic_text/x-csrc'] = {'reg':[/^%%pybind11/]};\n",
       "  Jupyter.notebook.events.one('kernel_ready.Kernel', function(){\n",
       "      Jupyter.notebook.get_cells().map(function(cell){\n",
       "          if (cell.cell_type == 'code'){ cell.auto_highlight(); } }) ;\n",
       "  });\n",
       "});\n",
       "} catch (e) {};\n"
      ]
     },
     "metadata": {},
     "output_type": "display_data"
    }
   ],
   "source": [
    "from __future__ import print_function\n",
    "\n",
    "import sys, os\n",
    "import numpy as np\n",
    "from time import time\n",
    "import matplotlib.pyplot as plt \n",
    "\n",
    "sys.path.append('/home/xilinx')\n",
    "os.environ['XILINX_XRT'] = '/usr'\n",
    "from pynq import Overlay\n",
    "from pynq import allocate"
   ]
  },
  {
   "cell_type": "code",
   "execution_count": 2,
   "id": "d3595e06",
   "metadata": {},
   "outputs": [
    {
     "name": "stdout",
     "output_type": "stream",
     "text": [
      "Entry: /usr/local/share/pynq-venv/lib/python3.8/site-packages/ipykernel_launcher.py\n",
      "System argument(s): 3\n",
      "Start of \"/usr/local/share/pynq-venv/lib/python3.8/site-packages/ipykernel_launcher.py\"\n"
     ]
    }
   ],
   "source": [
    "print(\"Entry:\", sys.argv[0])\n",
    "print(\"System argument(s):\", len(sys.argv))\n",
    "\n",
    "print(\"Start of \\\"\" + sys.argv[0] + \"\\\"\")\n",
    "\n",
    "overlay = Overlay('/home/xilinx/jupyter_notebooks/Untitled Folder/design_1.bit')"
   ]
  },
  {
   "cell_type": "code",
   "execution_count": 3,
   "id": "3e2fe375",
   "metadata": {},
   "outputs": [
    {
     "name": "stdout",
     "output_type": "stream",
     "text": [
      "62.5\n",
      "650.0\n"
     ]
    }
   ],
   "source": [
    "from pynq import ps\n",
    "\n",
    "print(ps.Clocks.fclk0_mhz)\n",
    "print(ps.Clocks.cpu_mhz)"
   ]
  },
  {
   "cell_type": "code",
   "execution_count": 4,
   "id": "6f5cefa7",
   "metadata": {},
   "outputs": [],
   "source": [
    "ip = overlay.model_0\n",
    "mmio = ip.mmio\n",
    "register_map = ip.register_map\n",
    "registers = register_map._register_classes"
   ]
  },
  {
   "cell_type": "code",
   "execution_count": 5,
   "id": "1a6cad78",
   "metadata": {},
   "outputs": [
    {
     "name": "stdout",
     "output_type": "stream",
     "text": [
      "CTRL (<class 'pynq.registers.RegisterCTRL'>, 0, 32, None, None, 'read-write')\n",
      "GIER (<class 'pynq.registers.RegisterGIER'>, 4, 32, None, None, 'read-write')\n",
      "IP_IER (<class 'pynq.registers.RegisterIP_IER'>, 8, 32, None, None, 'read-write')\n",
      "IP_ISR (<class 'pynq.registers.RegisterIP_ISR'>, 12, 32, None, None, 'read-write')\n",
      "data_in_noise_1 (<class 'pynq.registers.Registerdata_in_noise_1'>, 16, 32, None, None, 'write-only')\n",
      "data_in_noise_2 (<class 'pynq.registers.Registerdata_in_noise_2'>, 20, 32, None, None, 'write-only')\n",
      "data_out_1 (<class 'pynq.registers.Registerdata_out_1'>, 28, 32, None, None, 'write-only')\n",
      "data_out_2 (<class 'pynq.registers.Registerdata_out_2'>, 32, 32, None, None, 'write-only')\n"
     ]
    }
   ],
   "source": [
    "for name, reg in registers.items():\n",
    "    print(name, reg)"
   ]
  },
  {
   "cell_type": "code",
   "execution_count": 6,
   "id": "228ec0d0",
   "metadata": {},
   "outputs": [],
   "source": [
    "input_buffer_size = 100\n",
    "output_buffer_size = 784\n",
    "\n",
    "input_buffer = allocate(shape=(input_buffer_size, ), dtype=np.uint8)\n",
    "output_buffer = allocate(shape=(output_buffer_size, ), dtype=np.float32)\n",
    "register_map.data_in_noise_1.data_in_noise = input_buffer.device_address\n",
    "register_map.data_out_1.data_out = output_buffer.device_address"
   ]
  },
  {
   "cell_type": "code",
   "execution_count": 7,
   "id": "ce58d39e",
   "metadata": {},
   "outputs": [],
   "source": [
    "def hw(data_in):\n",
    "    input_buffer[:len(data_in)] = data_in\n",
    "    \n",
    "    register_map.CTRL.AP_START = 1\n",
    "    \n",
    "    while(register_map.CTRL.AP_DONE == 0):\n",
    "        pass\n",
    "    \n",
    "    return output_buffer"
   ]
  },
  {
   "cell_type": "code",
   "execution_count": 63,
   "id": "34ac4fa8",
   "metadata": {},
   "outputs": [],
   "source": [
    "images_num = 100"
   ]
  },
  {
   "cell_type": "code",
   "execution_count": 64,
   "id": "07d02643",
   "metadata": {},
   "outputs": [
    {
     "data": {
      "text/plain": [
       "array([[ 37, 116,  65, ...,  32,   6, 113],\n",
       "       [106,  77,  76, ..., 113,   4, 101],\n",
       "       [ 81, 120,  66, ...,  28, 105, 109],\n",
       "       ...,\n",
       "       [115,   7,  37, ...,  70,   1,  19],\n",
       "       [126, 109,  31, ..., 114, 120,  62],\n",
       "       [  6,  87,  31, ..., 115,  79,  90]], dtype=uint8)"
      ]
     },
     "execution_count": 64,
     "metadata": {},
     "output_type": "execute_result"
    }
   ],
   "source": [
    "np.random.seed(1)\n",
    "\n",
    "test_data = np.random.randint(0, 127, (images_num, 100), dtype=np.uint8)\n",
    "test_data"
   ]
  },
  {
   "cell_type": "code",
   "execution_count": 65,
   "id": "e350d592",
   "metadata": {
    "scrolled": true
   },
   "outputs": [],
   "source": [
    "img_list = []\n",
    "\n",
    "start = time()\n",
    "for i in range(images_num):\n",
    "    out = hw(test_data[i])\n",
    "    img_list.append(np.array(out))\n",
    "end = time()"
   ]
  },
  {
   "cell_type": "code",
   "execution_count": 66,
   "id": "c8d5833d",
   "metadata": {},
   "outputs": [],
   "source": [
    "def show_images(images):\n",
    "    sqrtn = int(np.ceil(np.sqrt(np.array(images).shape[0])))\n",
    "\n",
    "    plt.rcParams['figure.figsize'] = (10, 8)\n",
    "    \n",
    "    for index, image in enumerate(images):\n",
    "        plt.subplot(sqrtn, sqrtn, index+1)\n",
    "        plt.imshow(image.reshape(28, 28), cmap='gray')"
   ]
  },
  {
   "cell_type": "code",
   "execution_count": 67,
   "id": "edc8145b",
   "metadata": {},
   "outputs": [
    {
     "data": {
      "image/png": "[encoded data removed]",
      "text/plain": [
       "<Figure size 720x576 with 16 Axes>"
      ]
     },
     "metadata": {
      "needs_background": "light"
     },
     "output_type": "display_data"
    }
   ],
   "source": [
    "show_images(img_list[:16])"
   ]
  },
  {
   "cell_type": "code",
   "execution_count": 68,
   "id": "c470abeb",
   "metadata": {},
   "outputs": [
    {
     "name": "stdout",
     "output_type": "stream",
     "text": [
      "Time: 0.9309728145599365s\n",
      "FPS:  107.4145221386182\n"
     ]
    }
   ],
   "source": [
    "print('Time: '+str(end - start)+'s')\n",
    "print('FPS: ', 1/((end - start) / images_num))"
   ]
  },
  {
   "cell_type": "code",
   "execution_count": null,
   "id": "47e60a6f",
   "metadata": {},
   "outputs": [],
   "source": []
  }
 ],
 "metadata": {
  "kernelspec": {
   "display_name": "Python 3",
   "language": "python",
   "name": "python3"
  },
  "language_info": {
   "codemirror_mode": {
    "name": "ipython",
    "version": 3
   },
   "file_extension": ".py",
   "mimetype": "text/x-python",
   "name": "python",
   "nbconvert_exporter": "python",
   "pygments_lexer": "ipython3",
   "version": "3.8.2"
  }
 },
 "nbformat": 4,
 "nbformat_minor": 5
}
