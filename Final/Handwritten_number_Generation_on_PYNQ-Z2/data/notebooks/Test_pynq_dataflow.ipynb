{
 "cells": [
  {
   "cell_type": "code",
   "execution_count": 1,
   "id": "19543ea6",
   "metadata": {},
   "outputs": [
    {
     "data": {
      "application/javascript": [
       "\n",
       "try {\n",
       "require(['notebook/js/codecell'], function(codecell) {\n",
       "  codecell.CodeCell.options_default.highlight_modes[\n",
       "      'magic_text/x-csrc'] = {'reg':[/^%%microblaze/]};\n",
       "  Jupyter.notebook.events.one('kernel_ready.Kernel', function(){\n",
       "      Jupyter.notebook.get_cells().map(function(cell){\n",
       "          if (cell.cell_type == 'code'){ cell.auto_highlight(); } }) ;\n",
       "  });\n",
       "});\n",
       "} catch (e) {};\n"
      ]
     },
     "metadata": {},
     "output_type": "display_data"
    },
    {
     "data": {
      "application/javascript": [
       "\n",
       "try {\n",
       "require(['notebook/js/codecell'], function(codecell) {\n",
       "  codecell.CodeCell.options_default.highlight_modes[\n",
       "      'magic_text/x-csrc'] = {'reg':[/^%%pybind11/]};\n",
       "  Jupyter.notebook.events.one('kernel_ready.Kernel', function(){\n",
       "      Jupyter.notebook.get_cells().map(function(cell){\n",
       "          if (cell.cell_type == 'code'){ cell.auto_highlight(); } }) ;\n",
       "  });\n",
       "});\n",
       "} catch (e) {};\n"
      ]
     },
     "metadata": {},
     "output_type": "display_data"
    }
   ],
   "source": [
    "from __future__ import print_function\n",
    "\n",
    "import sys, os\n",
    "import numpy as np\n",
    "from time import time\n",
    "import matplotlib.pyplot as plt \n",
    "\n",
    "sys.path.append('/home/xilinx')\n",
    "os.environ['XILINX_XRT'] = '/usr'\n",
    "from pynq import Overlay\n",
    "from pynq import allocate"
   ]
  },
  {
   "cell_type": "code",
   "execution_count": 2,
   "id": "d3595e06",
   "metadata": {},
   "outputs": [
    {
     "name": "stdout",
     "output_type": "stream",
     "text": [
      "Entry: /usr/local/share/pynq-venv/lib/python3.8/site-packages/ipykernel_launcher.py\n",
      "System argument(s): 3\n",
      "Start of \"/usr/local/share/pynq-venv/lib/python3.8/site-packages/ipykernel_launcher.py\"\n"
     ]
    }
   ],
   "source": [
    "print(\"Entry:\", sys.argv[0])\n",
    "print(\"System argument(s):\", len(sys.argv))\n",
    "\n",
    "print(\"Start of \\\"\" + sys.argv[0] + \"\\\"\")\n",
    "\n",
    "overlay = Overlay('/home/xilinx/jupyter_notebooks/Untitled Folder/design_1.bit')"
   ]
  },
  {
   "cell_type": "code",
   "execution_count": 3,
   "id": "3e2fe375",
   "metadata": {},
   "outputs": [
    {
     "name": "stdout",
     "output_type": "stream",
     "text": [
      "62.5\n",
      "650.0\n"
     ]
    }
   ],
   "source": [
    "from pynq import ps\n",
    "\n",
    "print(ps.Clocks.fclk0_mhz)\n",
    "print(ps.Clocks.cpu_mhz)"
   ]
  },
  {
   "cell_type": "code",
   "execution_count": 4,
   "id": "6f5cefa7",
   "metadata": {},
   "outputs": [],
   "source": [
    "ip = overlay.model_0\n",
    "mmio = ip.mmio\n",
    "register_map = ip.register_map\n",
    "registers = register_map._register_classes"
   ]
  },
  {
   "cell_type": "code",
   "execution_count": 5,
   "id": "1a6cad78",
   "metadata": {},
   "outputs": [
    {
     "name": "stdout",
     "output_type": "stream",
     "text": [
      "CTRL (<class 'pynq.registers.RegisterCTRL'>, 0, 32, None, None, 'read-write')\n",
      "GIER (<class 'pynq.registers.RegisterGIER'>, 4, 32, None, None, 'read-write')\n",
      "IP_IER (<class 'pynq.registers.RegisterIP_IER'>, 8, 32, None, None, 'read-write')\n",
      "IP_ISR (<class 'pynq.registers.RegisterIP_ISR'>, 12, 32, None, None, 'read-write')\n",
      "data_in_noise_1 (<class 'pynq.registers.Registerdata_in_noise_1'>, 16, 32, None, None, 'write-only')\n",
      "data_in_noise_2 (<class 'pynq.registers.Registerdata_in_noise_2'>, 20, 32, None, None, 'write-only')\n",
      "data_out_1 (<class 'pynq.registers.Registerdata_out_1'>, 28, 32, None, None, 'write-only')\n",
      "data_out_2 (<class 'pynq.registers.Registerdata_out_2'>, 32, 32, None, None, 'write-only')\n"
     ]
    }
   ],
   "source": [
    "for name, reg in registers.items():\n",
    "    print(name, reg)"
   ]
  },
  {
   "cell_type": "code",
   "execution_count": 6,
   "id": "228ec0d0",
   "metadata": {},
   "outputs": [],
   "source": [
    "input_buffer_size = 100000\n",
    "output_buffer_size = 784000\n",
    "\n",
    "input_buffer = allocate(shape=(input_buffer_size, ), dtype=np.uint8)\n",
    "output_buffer = allocate(shape=(output_buffer_size, ), dtype=np.float32)\n",
    "register_map.data_in_noise_1.data_in_noise = input_buffer.device_address\n",
    "register_map.data_out_1.data_out = output_buffer.device_address"
   ]
  },
  {
   "cell_type": "code",
   "execution_count": 41,
   "id": "ce58d39e",
   "metadata": {},
   "outputs": [],
   "source": [
    "def hw(data_in):\n",
    "    input_buffer[:input_buffer_size] = data_in\n",
    "    \n",
    "    register_map.CTRL.AP_START = 1\n",
    "    \n",
    "    while(register_map.CTRL.AP_DONE == 0):\n",
    "        pass\n",
    "    \n",
    "    return output_buffer"
   ]
  },
  {
   "cell_type": "code",
   "execution_count": 42,
   "id": "3799826a",
   "metadata": {},
   "outputs": [],
   "source": [
    "image_nums = 1000"
   ]
  },
  {
   "cell_type": "code",
   "execution_count": 43,
   "id": "07d02643",
   "metadata": {},
   "outputs": [
    {
     "data": {
      "text/plain": [
       "array([ 37, 116,  65, ...,  49, 104, 121], dtype=uint8)"
      ]
     },
     "execution_count": 43,
     "metadata": {},
     "output_type": "execute_result"
    }
   ],
   "source": [
    "np.random.seed(1)\n",
    "\n",
    "test_data = np.random.randint(0, 127, (100*image_nums), dtype=np.uint8)\n",
    "test_data"
   ]
  },
  {
   "cell_type": "code",
   "execution_count": 50,
   "id": "e350d592",
   "metadata": {
    "scrolled": true
   },
   "outputs": [],
   "source": [
    "start = time()\n",
    "out = hw(test_data)\n",
    "end = time()"
   ]
  },
  {
   "cell_type": "code",
   "execution_count": 37,
   "id": "f8593150",
   "metadata": {},
   "outputs": [],
   "source": [
    "output = (np.array(out).reshape(1000, 28, 28))"
   ]
  },
  {
   "cell_type": "code",
   "execution_count": 46,
   "id": "c8d5833d",
   "metadata": {
    "scrolled": false
   },
   "outputs": [
    {
     "data": {
      "image/png": "[encoded data removed]",
      "text/plain": [
       "<Figure size 720x576 with 16 Axes>"
      ]
     },
     "metadata": {
      "needs_background": "light"
     },
     "output_type": "display_data"
    }
   ],
   "source": [
    "plt.rcParams['figure.figsize'] = (10, 8)\n",
    "    \n",
    "for index, image in enumerate(output[:16]):\n",
    "    plt.subplot(4, 4, index+1)\n",
    "    plt.imshow(image.reshape(28, 28), cmap='gray')"
   ]
  },
  {
   "cell_type": "code",
   "execution_count": 52,
   "id": "c470abeb",
   "metadata": {},
   "outputs": [
    {
     "name": "stdout",
     "output_type": "stream",
     "text": [
      "Time: 0.6345765590667725s\n",
      "FPS:  1575.8539859566044\n"
     ]
    }
   ],
   "source": [
    "print('Time: '+str(end - start)+'s')\n",
    "print('FPS: ', 1/((end - start) / image_nums))"
   ]
  },
  {
   "cell_type": "code",
   "execution_count": null,
   "id": "1c6d8e2c",
   "metadata": {},
   "outputs": [],
   "source": []
  }
 ],
 "metadata": {
  "kernelspec": {
   "display_name": "Python 3",
   "language": "python",
   "name": "python3"
  },
  "language_info": {
   "codemirror_mode": {
    "name": "ipython",
    "version": 3
   },
   "file_extension": ".py",
   "mimetype": "text/x-python",
   "name": "python",
   "nbconvert_exporter": "python",
   "pygments_lexer": "ipython3",
   "version": "3.8.2"
  }
 },
 "nbformat": 4,
 "nbformat_minor": 5
}
