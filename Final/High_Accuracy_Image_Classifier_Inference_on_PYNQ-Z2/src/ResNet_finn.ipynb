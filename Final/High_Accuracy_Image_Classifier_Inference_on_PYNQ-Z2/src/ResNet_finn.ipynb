{
 "cells": [
  {
   "cell_type": "markdown",
   "metadata": {},
   "source": [
    "# End-to-End FINN Flow for ResNet (test version)\n",
    "-----------------------------------------------------------------\n",
    "\n",
    "In this notebook, we will go through the FINN steps needed to take a ResNet all the way down to a heterogeneous streaming dataflow accelerator running on the FPGA. "
   ]
  },
  {
   "cell_type": "code",
   "execution_count": 1,
   "metadata": {},
   "outputs": [],
   "source": [
    "from qonnx.core.modelwrapper import ModelWrapper\n",
    "import numpy as np\n",
    "\n",
    "from qonnx.transformation.fold_constants import FoldConstants\n",
    "\n",
    "from qonnx.transformation.general import (\n",
    "    ConvertSubToAdd,\n",
    "    ConvertDivToMul,\n",
    "    GiveReadableTensorNames,\n",
    "    GiveUniqueNodeNames,\n",
    "    SortGraph,\n",
    "    RemoveUnusedTensors,\n",
    "    GiveUniqueParameterTensors,\n",
    "    RemoveStaticGraphInputs,\n",
    "    ApplyConfig,\n",
    ")\n",
    "\n",
    "from finn.transformation.streamline.absorb import (\n",
    "    AbsorbScalarMulAddIntoTopK,\n",
    "    AbsorbAddIntoMultiThreshold,\n",
    "    AbsorbMulIntoMultiThreshold,\n",
    "    FactorOutMulSignMagnitude,\n",
    "    Absorb1BitMulIntoMatMul,\n",
    "    Absorb1BitMulIntoConv,\n",
    "    AbsorbConsecutiveTransposes,\n",
    "    AbsorbTransposeIntoMultiThreshold,\n",
    "    AbsorbSignBiasIntoMultiThreshold,\n",
    ")\n",
    "\n",
    "from finn.transformation.streamline.collapse_repeated import (\n",
    "    CollapseRepeatedAdd,\n",
    "    CollapseRepeatedMul,\n",
    ")\n",
    "\n",
    "from finn.transformation.streamline.reorder import (\n",
    "    MoveAddPastMul,\n",
    "    MoveScalarMulPastMatMul,\n",
    "    MoveScalarAddPastMatMul,\n",
    "    MoveAddPastConv,\n",
    "    MoveScalarMulPastConv,\n",
    "    MoveScalarLinearPastInvariants,\n",
    "    MoveMaxPoolPastMultiThreshold,\n",
    ")\n",
    "\n",
    "from finn.transformation.streamline.round_thresholds import RoundAndClipThresholds\n",
    "from finn.transformation.streamline.sign_to_thres import ConvertSignToThres\n",
    "from qonnx.transformation.batchnorm_to_affine import BatchNormToAffine\n",
    "\n",
    "# just for not linear\n",
    "from finn.transformation.streamline.reorder import (\n",
    "    MoveLinearPastEltwiseAdd,\n",
    "    MoveLinearPastFork,\n",
    ")\n",
    "\n",
    "from qonnx.transformation.double_to_single_float import DoubleToSingleFloat\n",
    "from qonnx.transformation.remove import RemoveIdentityOps\n",
    "from qonnx.core.datatype import DataType\n",
    "\n",
    "from qonnx.transformation.infer_shapes import InferShapes\n",
    "from qonnx.transformation.infer_datatypes import InferDataTypes\n",
    "from qonnx.transformation.infer_data_layouts import InferDataLayouts\n",
    "from qonnx.transformation.insert_topk import InsertTopK\n",
    "import finn.transformation.fpgadataflow.convert_to_hls_layers as to_hls\n",
    "from qonnx.transformation.lower_convs_to_matmul import LowerConvsToMatMul\n",
    "\n",
    "from finn.builder.build_dataflow_config import (\n",
    "    DataflowBuildConfig,\n",
    "    ShellFlowType,\n",
    ")\n",
    "\n",
    "from finn.transformation.fpgadataflow.prepare_ip import PrepareIP\n",
    "from finn.transformation.fpgadataflow.hlssynth_ip import HLSSynthIP\n",
    "from finn.transformation.fpgadataflow.replace_verilog_relpaths import (\n",
    "    ReplaceVerilogRelPaths,\n",
    ")\n",
    "\n",
    "from finn.transformation.move_reshape import RemoveCNVtoFCFlatten\n",
    "\n",
    "from qonnx.util.config import extract_model_config_to_json\n",
    "from finn.transformation.fpgadataflow.set_fifo_depths import (\n",
    "    InsertAndSetFIFODepths,\n",
    "    RemoveShallowFIFOs,\n",
    ")\n",
    "from finn.transformation.fpgadataflow.insert_dwc import InsertDWC\n",
    "from finn.transformation.fpgadataflow.insert_fifo import InsertFIFO\n",
    "from qonnx.custom_op.registry import getCustomOp\n",
    "\n",
    "from finn.transformation.fpgadataflow.create_dataflow_partition import (\n",
    "    CreateDataflowPartition,\n",
    ")"
   ]
  },
  {
   "cell_type": "code",
   "execution_count": 2,
   "metadata": {},
   "outputs": [],
   "source": [
    "def step_resnet_tidy(onnx_file, store_name):\n",
    "    model = ModelWrapper(onnx_file)\n",
    "    model = model.transform(GiveUniqueParameterTensors())    \n",
    "    model = model.transform(InferShapes())\n",
    "    model = model.transform(FoldConstants())\n",
    "    model = model.transform(RemoveStaticGraphInputs())\n",
    "    model = model.transform(GiveUniqueNodeNames())\n",
    "    model = model.transform(GiveReadableTensorNames())\n",
    "    model = model.transform(InferDataTypes())\n",
    "    model = model.transform(InsertTopK())\n",
    "    model = model.transform(InferShapes())\n",
    "    model = model.transform(GiveUniqueNodeNames())\n",
    "    model = model.transform(GiveReadableTensorNames())\n",
    "    model = model.transform(InferDataTypes())\n",
    "    model.save(f'{store_name}_tidy.onnx')\n",
    "    return model"
   ]
  },
  {
   "cell_type": "code",
   "execution_count": 112,
   "metadata": {},
   "outputs": [],
   "source": [
    "def step_resnet_streamline_linear(model):\n",
    "    streamline_transformations = [\n",
    "        AbsorbSignBiasIntoMultiThreshold(), # added from https://github.com/Xilinx/finn/issues/337\n",
    "        AbsorbScalarMulAddIntoTopK(),       # before MoveAddPastMul to avoid int->float\n",
    "        ConvertSubToAdd(),\n",
    "        ConvertDivToMul(),\n",
    "        RemoveIdentityOps(),\n",
    "        CollapseRepeatedMul(),\n",
    "        BatchNormToAffine(),\n",
    "        ConvertSignToThres(),\n",
    "        MoveAddPastMul(),\n",
    "        MoveScalarAddPastMatMul(),\n",
    "        MoveAddPastConv(),\n",
    "        MoveScalarMulPastMatMul(),\n",
    "        MoveScalarMulPastConv(),\n",
    "        MoveScalarLinearPastInvariants(),\n",
    "        MoveAddPastMul(),\n",
    "        CollapseRepeatedAdd(),\n",
    "        CollapseRepeatedMul(),\n",
    "        AbsorbAddIntoMultiThreshold(),\n",
    "        FactorOutMulSignMagnitude(),\n",
    "        MoveMaxPoolPastMultiThreshold(),\n",
    "        AbsorbMulIntoMultiThreshold(),\n",
    "        Absorb1BitMulIntoMatMul(),\n",
    "        Absorb1BitMulIntoConv(),\n",
    "        RoundAndClipThresholds(),\n",
    "    ]\n",
    "    for trn in streamline_transformations:\n",
    "        model = model.transform(trn)\n",
    "        model = model.transform(GiveUniqueNodeNames())\n",
    "    return model\n",
    "\n",
    "\n",
    "def step_resnet_streamline_nonlinear(model):\n",
    "    streamline_transformations = [\n",
    "        MoveLinearPastEltwiseAdd(),\n",
    "        MoveLinearPastFork(),\n",
    "    ]\n",
    "    for trn in streamline_transformations:\n",
    "        model = model.transform(trn)\n",
    "        model = model.transform(GiveUniqueNodeNames())\n",
    "    return model\n",
    "\n",
    "\n",
    "def step_resnet_streamline(model, store_name):\n",
    "\n",
    "    for iter_id in range(4):\n",
    "        model = step_resnet_streamline_linear(model)\n",
    "        model = step_resnet_streamline_nonlinear(model)\n",
    "\n",
    "        # big loop tidy up\n",
    "        model = model.transform(RemoveUnusedTensors())\n",
    "        model = model.transform(GiveReadableTensorNames())\n",
    "        model = model.transform(InferDataTypes())\n",
    "        model = model.transform(SortGraph())\n",
    "\n",
    "    model = model.transform(DoubleToSingleFloat())\n",
    "    model.save(f'{store_name}_streamlined.onnx')\n",
    "    return model"
   ]
  },
  {
   "cell_type": "code",
   "execution_count": 113,
   "metadata": {},
   "outputs": [],
   "source": [
    "def step_resnet_convert_to_hls(model, store_name):\n",
    "    mem_mode = \"decoupled\"\n",
    "    \n",
    "    model.set_tensor_datatype(model.graph.input[0].name, DataType[\"UINT8\"])\n",
    "    model = model.transform(InferDataLayouts())\n",
    "\n",
    "    model = model.transform(DoubleToSingleFloat())\n",
    "    model = model.transform(InferDataTypes())\n",
    "    model = model.transform(SortGraph())\n",
    "\n",
    "    to_hls_transformations = [\n",
    "        to_hls.InferAddStreamsLayer,\n",
    "        LowerConvsToMatMul,\n",
    "        to_hls.InferChannelwiseLinearLayer,\n",
    "        to_hls.InferPool_Batch,\n",
    "        AbsorbTransposeIntoMultiThreshold,\n",
    "        RoundAndClipThresholds,\n",
    "        to_hls.InferBinaryMatrixVectorActivation, # added\n",
    "        to_hls.InferQuantizedMatrixVectorActivation,\n",
    "        to_hls.InferThresholdingLayer,\n",
    "        AbsorbConsecutiveTransposes,\n",
    "        to_hls.InferConvInpGen,\n",
    "        to_hls.InferDuplicateStreamsLayer,\n",
    "        to_hls.InferLabelSelectLayer,\n",
    "    ]\n",
    "    for trn in to_hls_transformations:\n",
    "        if trn ==  to_hls.InferQuantizedMatrixVectorActivation or trn == to_hls.InferBinaryMatrixVectorActivation:\n",
    "            model = model.transform(trn(mem_mode))\n",
    "        else:\n",
    "            model = model.transform(trn())\n",
    "        model = model.transform(InferDataLayouts())\n",
    "        model = model.transform(GiveUniqueNodeNames())\n",
    "        model = model.transform(InferDataTypes())\n",
    "        \n",
    "    \n",
    "    model = model.transform(RemoveCNVtoFCFlatten())\n",
    "    \n",
    "    parent_model = model.transform(CreateDataflowPartition())\n",
    "    sdp_node = parent_model.get_nodes_by_op_type(\"StreamingDataflowPartition\")[0]\n",
    "    sdp_node = getCustomOp(sdp_node)\n",
    "    dataflow_model_filename = sdp_node.get_nodeattr(\"model\")\n",
    "    # save the dataflow partition with a different name for easier access\n",
    "    model = ModelWrapper(dataflow_model_filename)\n",
    "    \n",
    "    model = model.transform(GiveReadableTensorNames())\n",
    "    model = model.transform(RemoveUnusedTensors())\n",
    "    model = model.transform(SortGraph())\n",
    "    model.save(f'{store_name}_dataflow.onnx')\n",
    "    \n",
    "    return model"
   ]
  },
  {
   "cell_type": "code",
   "execution_count": 120,
   "metadata": {},
   "outputs": [],
   "source": [
    "def step_resnet_set_config(model, store_name):\n",
    "\n",
    "#     model = model.transform(InsertDWC())\n",
    "#     model = model.transform(InsertFIFO(create_shallow_fifos=True))\n",
    "    model = model.transform(GiveUniqueNodeNames())\n",
    "    model = model.transform(GiveReadableTensorNames())\n",
    "    \n",
    "    layers = model.get_nodes_by_op_type(\"MatrixVectorActivation\")\n",
    "    # each tuple is (PE, SIMD, in_fifo_depth) for a layer\n",
    "    print(len(layers))\n",
    "    folding = [\n",
    "    #     (16, 3, 128),\n",
    "    #     (16, 4, 128),\n",
    "    #     (16, 4, 128),\n",
    "    #     (16, 8, 64),\n",
    "    #     (16, 16, 64),\n",
    "    #     (16, 32, 16),\n",
    "    #     (16, 32, 4),\n",
    "    #     (1, 8, 128),\n",
    "    #     (8, 1, 3),\n",
    "        (16, 1 , 32), #0\n",
    "        (2, 4, 32), #1\n",
    "        (2, 4, 32), #2\n",
    "        (2, 4, 32), #3\n",
    "        (2, 4, 32), #4\n",
    "        (2, 4, 32), #5\n",
    "        (1, 4, 32), #6\n",
    "        (1, 4, 32), #7\n",
    "        (1, 4, 32), #8\n",
    "#         (1, 4, 32), #9\n",
    "#         (8, 1 , 32), #0\n",
    "#         (2, 2, 32), #1\n",
    "#         (2, 2, 32), #2\n",
    "#         (2, 2, 32), #3\n",
    "#         (2, 2, 32), #4\n",
    "#         (1, 2, 32), #5\n",
    "#         (1, 2, 32), #6\n",
    "#         (1, 2, 32), #7\n",
    "#         (1, 2, 32), #8\n",
    "    ]\n",
    "    for l, (pe, simd, ififodepth) in zip(layers, folding):\n",
    "        l_inst = getCustomOp(l)\n",
    "        l_inst.set_nodeattr(\"PE\", pe)\n",
    "        l_inst.set_nodeattr(\"SIMD\", simd)\n",
    "        l_inst.set_nodeattr(\"inFIFODepth\", ififodepth)\n",
    "#         l_inst.set_nodeattr(\"ram_style\", ramstyle)\n",
    "\n",
    "    # use same SIMD values for the sliding window operators\n",
    "    swg_layers = model.get_nodes_by_op_type(\"ConvolutionInputGenerator\")\n",
    "    print(len(swg_layers))\n",
    "    \n",
    "#     folding = folding[0:5]+folding[6:10]+folding[11:15]+folding[16:]\n",
    "#     folding = folding[0:3]+folding[4:6]+folding[7:9]+folding[10:-2]\n",
    "#     folding = folding[0:1]+folding[2:4]+folding[5:7]+folding[8:]\n",
    "    folding = folding[0:3]+folding[4:6]+folding[7:]\n",
    "    print(len(folding))\n",
    "    for i in range(len(swg_layers)):\n",
    "        swg_inst = getCustomOp(swg_layers[i])\n",
    "        simd = folding[i][1]\n",
    "        swg_inst.set_nodeattr(\"SIMD\", simd)\n",
    "        \n",
    "    model = model.transform(RemoveShallowFIFOs())\n",
    "\n",
    "\n",
    "    # after FIFOs are ready to go, call PrepareIP and HLSSynthIP again\n",
    "    # this will only run for the new nodes (e.g. FIFOs and DWCs)\n",
    "\n",
    "#     model = model.transform(\n",
    "#         PrepareIP(\"Pynq-Z2\", 10)\n",
    "#     )\n",
    "#     model = model.transform(HLSSynthIP())\n",
    "#     model = model.transform(ReplaceVerilogRelPaths())\n",
    "\n",
    "    model = model.transform(GiveUniqueNodeNames())\n",
    "    model.save(f'{store_name}_folded.onnx')\n",
    "    \n",
    "    return model"
   ]
  },
  {
   "cell_type": "code",
   "execution_count": 121,
   "metadata": {},
   "outputs": [
    {
     "name": "stdout",
     "output_type": "stream",
     "text": [
      "/home/yhp/Documents/Class/111-1_HLS/course-lab_finn/course-lab_finn/FINN_v0.8_lab_packv2/finn/build\n",
      "9\n",
      "7\n",
      "7\n"
     ]
    }
   ],
   "source": [
    "from finn.util.basic import make_build_dir\n",
    "from finn.util.visualization import showInNetron\n",
    "import os\n",
    "\n",
    "# initialize\n",
    "build_dir = os.environ[\"FINN_BUILD_DIR\"]\n",
    "print(build_dir)\n",
    "if not os.path.exists(build_dir):\n",
    "    os.makedirs(build_dir)\n",
    "\n",
    "# wrapper onnx\n",
    "# onnx_file = \"finn_resnet.onnx\"\n",
    "# onnx_file = \"finn_resnet10.onnx\"\n",
    "# onnx_file = \"finn_resnet8_gray.onnx\"\n",
    "onnx_file = \"finn_resnet8.onnx\"\n",
    "\n",
    "ver = \"6\"\n",
    "w_bit = \"4\"\n",
    "a_bit = \"4\"\n",
    "store_name = os.path.join(build_dir,f'resnet_v{ver}_w{w_bit}a{a_bit}')\n",
    "\n",
    "model = step_resnet_tidy(os.path.join(build_dir,onnx_file), store_name)\n",
    "model = step_resnet_streamline(model, store_name)\n",
    "model = step_resnet_convert_to_hls(model, store_name)\n",
    "model = step_resnet_set_config(model, store_name)"
   ]
  },
  {
   "cell_type": "markdown",
   "metadata": {},
   "source": [
    "## Hardware Generation"
   ]
  },
  {
   "cell_type": "code",
   "execution_count": 122,
   "metadata": {
    "scrolled": false
   },
   "outputs": [
    {
     "name": "stderr",
     "output_type": "stream",
     "text": [
      "/home/yhp/Documents/Class/111-1_HLS/course-lab_finn/course-lab_finn/FINN_v0.8_lab_packv2/finn/src/finn/transformation/fpgadataflow/floorplan.py:108: UserWarning: 60 nodes have no entry in the provided floorplan, SLR was set to -1\n",
      "  warnings.warn(\n",
      "/home/yhp/Documents/Class/111-1_HLS/course-lab_finn/course-lab_finn/FINN_v0.8_lab_packv2/finn/src/finn/transformation/fpgadataflow/insert_fifo.py:189: UserWarning: Overriding input FIFO depth to 32\n",
      "  warnings.warn(\"Overriding input FIFO depth to 32\")\n",
      "/home/yhp/Documents/Class/111-1_HLS/course-lab_finn/course-lab_finn/FINN_v0.8_lab_packv2/finn/src/finn/transformation/fpgadataflow/insert_fifo.py:236: UserWarning: Overriding output FIFO depth to 32\n",
      "  warnings.warn(\"Overriding output FIFO depth to 32\")\n"
     ]
    }
   ],
   "source": [
    "test_pynq_board = \"Pynq-Z2\"\n",
    "# test_pynq_board = \"KV260\"\n",
    "target_clk_ns = 10\n",
    "\n",
    "from finn.transformation.fpgadataflow.make_zynq_proj import ZynqBuild\n",
    "model = ModelWrapper(f'{store_name}_folded.onnx')\n",
    "model = model.transform(ZynqBuild(platform = test_pynq_board, period_ns = target_clk_ns))"
   ]
  },
  {
   "cell_type": "markdown",
   "metadata": {},
   "source": [
    "After the `ZynqBuild` we run one additional transformation to generate a PYNQ driver for the accelerator."
   ]
  },
  {
   "cell_type": "code",
   "execution_count": 123,
   "metadata": {},
   "outputs": [],
   "source": [
    "from finn.transformation.fpgadataflow.make_pynq_driver import MakePYNQDriver\n",
    "model = model.transform(MakePYNQDriver(\"zynq-iodma\"))"
   ]
  },
  {
   "cell_type": "code",
   "execution_count": 124,
   "metadata": {},
   "outputs": [],
   "source": [
    "model.save(f'{store_name}_synth.onnx')"
   ]
  },
  {
   "cell_type": "markdown",
   "metadata": {},
   "source": [
    "## 5. Deployment and Remote Execution\n",
    "\n",
    "Now that we're done with the hardware generation, we can copy the necessary files onto our PYNQ board.\n",
    "\n",
    "**Make sure you've [set up the SSH keys for your PYNQ board](https://finn-dev.readthedocs.io/en/latest/getting_started.html#pynq-board-first-time-setup) before executing this step.**"
   ]
  },
  {
   "cell_type": "code",
   "execution_count": 125,
   "metadata": {},
   "outputs": [
    {
     "name": "stdout",
     "output_type": "stream",
     "text": [
      "/home/xilinx/jupyter_notebooks/FINN/finn_dev_yhp\n"
     ]
    }
   ],
   "source": [
    "import os\n",
    "\n",
    "# set up the following values according to your own environment\n",
    "# FINN will use ssh to deploy and run the generated accelerator\n",
    "# ip = \"192.168.2.99\"\n",
    "# username = os.getenv(\"PYNQ_USERNAME\", \"xilinx\")\n",
    "# password = os.getenv(\"PYNQ_PASSWORD\", \"xilinx\")\n",
    "# port = os.getenv(\"PYNQ_PORT\", 22)\n",
    "# target_dir = os.getenv(\"PYNQ_TARGET_DIR\", \"/home/xilinx/finn_cnv_end2end_example\")\n",
    "# # set up ssh options to only allow publickey authentication\n",
    "# options = \"-o PreferredAuthentications=publickey -o PasswordAuthentication=no\"\n",
    "\n",
    "# # test access to PYNQ board\n",
    "# ! ssh {options} {username}@{ip} -p {port} cat /var/run/motd.dynamic\n",
    "\n",
    "ip = \"192.168.1.60\"   # your current build (not pynq) machine ip\n",
    "username = 'yhp'    # your current build (not pynq) machine account\n",
    "password = 'x' # dummy, don't modify\n",
    "port = 22  # your current build (not pynq) machine ip port\n",
    "target_dir = os.getenv(\"PYNQ_TARGET_DIR\", \"/home/xilinx/finn_cnv_end2end_example\")\n",
    "print(target_dir)"
   ]
  },
  {
   "cell_type": "code",
   "execution_count": 126,
   "metadata": {},
   "outputs": [
    {
     "name": "stdout",
     "output_type": "stream",
     "text": [
      "Please manually copy and paste the following command in the remote pynq jupter notebook.\n",
      "========================================\n",
      "mkdir -p /home/xilinx/jupyter_notebooks/FINN/finn_dev_yhp\n",
      "scp -P22 -r yhp@192.168.1.60:/home/yhp/Documents/Class/111-1_HLS/course-lab_finn/course-lab_finn/FINN_v0.8_lab_packv2/finn/build/pynq_deployment_4va4zw4y /home/xilinx/jupyter_notebooks/FINN/finn_dev_yhp\n",
      "========================================\n"
     ]
    }
   ],
   "source": [
    "from finn.transformation.fpgadataflow.make_deployment import DeployToPYNQ\n",
    "\n",
    "model = ModelWrapper(f'{store_name}_synth.onnx')\n",
    "model = model.transform(DeployToPYNQ(ip, port, username, password, target_dir))\n",
    "model.save(f'{store_name}_deploy.onnx')"
   ]
  },
  {
   "cell_type": "code",
   "execution_count": 127,
   "metadata": {},
   "outputs": [
    {
     "data": {
      "text/plain": [
       "'/home/xilinx/jupyter_notebooks/FINN/finn_dev_yhp/pynq_deployment_4va4zw4y'"
      ]
     },
     "execution_count": 127,
     "metadata": {},
     "output_type": "execute_result"
    }
   ],
   "source": [
    "target_dir_pynq = target_dir + \"/\" + model.get_metadata_prop(\"pynq_deployment_dir\").split(\"/\")[-1]\n",
    "target_dir_pynq"
   ]
  },
  {
   "cell_type": "code",
   "execution_count": 128,
   "metadata": {},
   "outputs": [],
   "source": [
    "# ! ssh {options} {username}@{ip} -p {port} 'ls -l {target_dir_pynq}'"
   ]
  },
  {
   "cell_type": "markdown",
   "metadata": {},
   "source": [
    "We only have two more steps to be able to remotely execute the deployed bitfile with some test data from the CIFAR-10 dataset. Let's load up some test data that comes bundled with FINN -- *and before you ask, that's supposed to be a cat (CIFAR-10 class number 3)*."
   ]
  },
  {
   "cell_type": "code",
   "execution_count": 129,
   "metadata": {},
   "outputs": [
    {
     "data": {
      "text/plain": [
       "<matplotlib.image.AxesImage at 0x7f2e4e61d820>"
      ]
     },
     "execution_count": 129,
     "metadata": {},
     "output_type": "execute_result"
    },
    {
     "data": {
      "image/png": "[encoded data removed]",
      "text/plain": [
       "<Figure size 432x288 with 1 Axes>"
      ]
     },
     "metadata": {
      "needs_background": "light"
     },
     "output_type": "display_data"
    }
   ],
   "source": [
    "import pkg_resources as pk\n",
    "import matplotlib.pyplot as plt\n",
    "import numpy as np\n",
    "\n",
    "fn = pk.resource_filename(\"finn.qnn-data\", \"cifar10/cifar10-test-data-class3.npz\")\n",
    "x = np.load(fn)[\"arr_0\"]\n",
    "x = x.reshape(3, 32,32).transpose(1, 2, 0)\n",
    "plt.imshow(x)"
   ]
  },
  {
   "cell_type": "markdown",
   "metadata": {},
   "source": [
    "Recall that we partitioned our original network into a parent graph that contained the non-synthesizable nodes and a child graph that contained the bulk of the network, which we turned into a bitfile. The only operator left outside the FPGA partition was a `Transpose` to convert NCHW images into NHWC ones. Thus, we can skip the execution in the parent as long as we ensure our image has the expected data layout, which we have done above."
   ]
  },
  {
   "cell_type": "code",
   "execution_count": 130,
   "metadata": {},
   "outputs": [
    {
     "name": "stdout",
     "output_type": "stream",
     "text": [
      "Please manually copy and paste the following command in the remote pynq jupter notebook.\n",
      "============== copy input to PYNQ board ================\n",
      "scp -P22 -r yhp@192.168.1.60:/home/yhp/Documents/Class/111-1_HLS/course-lab_finn/course-lab_finn/FINN_v0.8_lab_packv2/finn/build/pynq_deployment_4va4zw4y/input.npy /home/xilinx/jupyter_notebooks/FINN/finn_dev_yhp/pynq_deployment_4va4zw4y\n",
      "\n",
      "============== use platform attribute for correct remote execution ================\n",
      "cd /home/xilinx/jupyter_notebooks/FINN/finn_dev_yhp/pynq_deployment_4va4zw4y; python3 driver.py --exec_mode=execute --batchsize=1 --bitfile=resizer.bit --inputfile=input.npy --outputfile=output.npy --platform=zynq-iodma\n",
      "\n",
      "============== copy generated output to local ==========================\n",
      "scp -P22  /home/xilinx/jupyter_notebooks/FINN/finn_dev_yhp/pynq_deployment_4va4zw4y/output.npy yhp@192.168.1.60:/home/yhp/Documents/Class/111-1_HLS/course-lab_finn/course-lab_finn/FINN_v0.8_lab_packv2/finn/build/pynq_deployment_4va4zw4y \n",
      "\n",
      "============== Please open a new cell in the original jupyter notebook and paste the below ================\n",
      "outp = np.load('{}/output.npy'.format(model.get_metadata_prop('pynq_deploy_dir')))\n",
      "ret[model.graph.output[0].name] = outp\n"
     ]
    }
   ],
   "source": [
    "import numpy as np\n",
    "from finn.core.onnx_exec import execute_onnx\n",
    "\n",
    "model = ModelWrapper(f'{store_name}_deploy.onnx')\n",
    "iname = model.graph.input[0].name\n",
    "oname = model.graph.output[0].name\n",
    "ishape = model.get_tensor_shape(iname)\n",
    "input_dict = {iname: x.astype(np.float32).reshape(ishape)}\n",
    "ret = execute_onnx(model, input_dict, True)"
   ]
  },
  {
   "cell_type": "code",
   "execution_count": null,
   "metadata": {},
   "outputs": [],
   "source": [
    "ret[oname]"
   ]
  },
  {
   "cell_type": "markdown",
   "metadata": {},
   "source": [
    "We see that the network correctly predicts this as a class 3 (\"cat\"). "
   ]
  },
  {
   "cell_type": "markdown",
   "metadata": {},
   "source": [
    "### Validating the Accuracy on a PYNQ Board <a id='validation'></a>\n",
    "\n",
    "All the command line prompts here are meant to be executed with `sudo` on the PYNQ board, so we'll use a workaround (`echo password | sudo -S command`) to get that working from this notebook running on the host computer.\n",
    "\n",
    "**Ensure that your PYNQ board has a working internet connecting for the next steps, since some there is some downloading involved.**\n",
    "\n",
    "To validate the accuracy, we first need to install the [`dataset-loading`](https://github.com/fbcotter/dataset_loading) Python package to the PYNQ board. This will give us a convenient way of downloading and accessing the MNIST dataset.\n",
    "\n",
    "\n",
    "Command to execute on PYNQ:\n",
    "\n",
    "```pip3 install git+https://github.com/fbcotter/dataset_loading.git@0.0.4#egg=dataset_loading```"
   ]
  },
  {
   "cell_type": "code",
   "execution_count": 17,
   "metadata": {},
   "outputs": [
    {
     "name": "stdout",
     "output_type": "stream",
     "text": [
      "Please paste the below command into pynq terminal\n",
      "=========================================================\n",
      "su xilinx\n",
      "sudo python3 -m pip install git+https://github.com/fbcotter/dataset_loading.git@0.0.4#egg=dataset_loading\n"
     ]
    }
   ],
   "source": [
    "# ! ssh {options} -t {username}@{ip} -p {port} 'echo {password} | sudo -S pip3 install git+https://github.com/fbcotter/dataset_loading.git@0.0.4#egg=dataset_loading'\n",
    "print(\"Please paste the below command into pynq terminal\")\n",
    "print(\"=========================================================\")\n",
    "print(\"su xilinx\")\n",
    "print(\"sudo python3 -m pip install git+https://github.com/fbcotter/dataset_loading.git@0.0.4#egg=dataset_loading\")"
   ]
  },
  {
   "cell_type": "markdown",
   "metadata": {},
   "source": [
    "We can now use the `validate.py` script that was generated together with the driver to measure top-1 accuracy on the CIFAR-10 dataset.\n",
    "\n",
    "Command to execute on PYNQ:\n",
    "\n",
    "`python3.6 validate.py --dataset cifar10 --batchsize 1000`"
   ]
  },
  {
   "cell_type": "code",
   "execution_count": 18,
   "metadata": {},
   "outputs": [
    {
     "name": "stdout",
     "output_type": "stream",
     "text": [
      "Please paste the below command into pynq terminal\n",
      "=========================================================\n",
      "su \n",
      "python3 validate.py --dataset cifar10 --batchsize 1000\n"
     ]
    }
   ],
   "source": [
    "# ! ssh {options} -t {username}@{ip} -p {port} 'cd {target_dir_pynq}; echo {password} | sudo -S python3.6 validate.py --dataset cifar10 --batchsize 1000'\n",
    "print(\"Please paste the below command into pynq terminal\")\n",
    "print(\"=========================================================\")\n",
    "print(\"su \")\n",
    "print(\"python3 validate.py --dataset cifar10 --batchsize 1000\")"
   ]
  },
  {
   "cell_type": "markdown",
   "metadata": {},
   "source": [
    "We see that the final top-1 accuracy is 84.19%, which is very close to the 84.22% reported on the [BNN-PYNQ accuracy table in Brevitas](https://github.com/Xilinx/brevitas/tree/master/src/brevitas_examples/bnn_pynq). "
   ]
  }
 ],
 "metadata": {
  "kernelspec": {
   "display_name": "Python 3",
   "language": "python",
   "name": "python3"
  },
  "language_info": {
   "codemirror_mode": {
    "name": "ipython",
    "version": 3
   },
   "file_extension": ".py",
   "mimetype": "text/x-python",
   "name": "python",
   "nbconvert_exporter": "python",
   "pygments_lexer": "ipython3",
   "version": "3.8.5"
  },
  "vscode": {
   "interpreter": {
    "hash": "31f2aee4e71d21fbe5cf8b01ff0e069b9275f58929596ceb00d14d90e3e16cd6"
   }
  }
 },
 "nbformat": 4,
 "nbformat_minor": 2
}
